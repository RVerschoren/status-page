{
 "cells": [
  {
   "cell_type": "markdown",
   "id": "3c221da2-5d54-4a13-84c3-1de033ae1968",
   "metadata": {},
   "source": [
    "# Requirements"
   ]
  },
  {
   "cell_type": "code",
   "execution_count": 1,
   "id": "6bf15d4a-7f66-4db2-85bf-5c888fbb4d51",
   "metadata": {},
   "outputs": [],
   "source": [
    "%load_ext autoreload\n",
    "%autoreload 2"
   ]
  },
  {
   "cell_type": "code",
   "execution_count": 2,
   "id": "cee695f0-7d8f-4ae6-83ed-a758543b4864",
   "metadata": {},
   "outputs": [],
   "source": [
    "import datetime\n",
    "from incident_parser import IncidentParser\n",
    "from config_reader import read_config\n",
    "import markdown\n",
    "import os\n",
    "from pathlib import Path\n",
    "import utils"
   ]
  },
  {
   "cell_type": "markdown",
   "id": "99a01093-5085-446e-b5e2-dcf67d29535d",
   "metadata": {},
   "source": [
    "# Configuration"
   ]
  },
  {
   "cell_type": "code",
   "execution_count": 3,
   "id": "f2fb8fd1-6480-4837-8ca1-700ab6b1f2ed",
   "metadata": {},
   "outputs": [],
   "source": [
    "config = read_config('../config/config.yml')"
   ]
  },
  {
   "cell_type": "code",
   "execution_count": 4,
   "id": "9909a6e2-49a1-497e-a940-64e4c0c04081",
   "metadata": {},
   "outputs": [],
   "source": [
    "incident_dirs = config['incident_dirs']\n",
    "template_dir = config['template_dir']\n",
    "build_dir = config['build_dir']"
   ]
  },
  {
   "cell_type": "code",
   "execution_count": 5,
   "id": "4e8b63e8-7b95-475e-b423-501606045072",
   "metadata": {},
   "outputs": [],
   "source": [
    "no_news_message = config['no_news_message']"
   ]
  },
  {
   "cell_type": "code",
   "execution_count": 6,
   "id": "1e1dbe5f-c3db-4996-8562-746a1249fd20",
   "metadata": {},
   "outputs": [],
   "source": [
    "current_overview_columns = ['end_date', 'affected', 'title', 'level']\n",
    "planned_overview_columns = ['start_date', 'end_date', 'affected', 'title', 'level']"
   ]
  },
  {
   "cell_type": "code",
   "execution_count": 7,
   "id": "caa18f7f-96e8-49aa-a89d-4a9b0e10329c",
   "metadata": {},
   "outputs": [],
   "source": [
    "meta_data_fields = ['title', 'start_date', 'end_date', 'affected', 'level', 'planned',]\n",
    "affected = ['tier1_compute', 'tier1_data', 'tier1_cloud',\n",
    "            'tier2_antwerp', 'tier2_brussels', 'tier2_gent', 'tier2_leuven',\n",
    "            'vsc_backbone']\n",
    "level = ['low', 'medium', 'high']\n",
    "sep = r'\\s*,\\s*'"
   ]
  },
  {
   "cell_type": "code",
   "execution_count": 8,
   "id": "d03449c6-da3d-47f2-9b5a-46f814cdecdf",
   "metadata": {},
   "outputs": [],
   "source": [
    "os.chdir('/home/gjb/Projects/github_actions_test/')"
   ]
  },
  {
   "cell_type": "markdown",
   "id": "c47c5a3a-b671-49f2-8515-674e9a2f4d88",
   "metadata": {},
   "source": [
    "# Incidents"
   ]
  },
  {
   "cell_type": "code",
   "execution_count": 9,
   "id": "2d272dce-8aca-4b98-9de1-6701ca5fccec",
   "metadata": {},
   "outputs": [],
   "source": [
    "parser = IncidentParser(meta_data_fields=meta_data_fields, affected=affected, level=level,\n",
    "                        sep=sep, is_verbose=True, is_permissive=True)"
   ]
  },
  {
   "cell_type": "code",
   "execution_count": 10,
   "id": "5cd41b08-55e6-44dd-8bff-7d90589e28b1",
   "metadata": {},
   "outputs": [
    {
     "name": "stderr",
     "output_type": "stream",
     "text": [
      "parsing directory 'incidents'\n",
      "parsing file 'incidents/indicent_04.yml'\n",
      "validating file 'incidents/indicent_04.yml'\n",
      "parsing file 'incidents/indicent_01.yml'\n",
      "validating file 'incidents/indicent_01.yml'\n",
      "parsing file 'incidents/indicent_02.yml'\n",
      "validating file 'incidents/indicent_02.yml'\n",
      "### error: incidents/indicent_02.yml: invalid level value intermediate\n",
      "parsing file 'incidents/indicent_03.yml'\n",
      "validating file 'incidents/indicent_03.yml'\n"
     ]
    }
   ],
   "source": [
    "for dir_path in incident_dirs:\n",
    "    parser.parse(dir_path)"
   ]
  },
  {
   "cell_type": "code",
   "execution_count": 11,
   "id": "9e0c5d53-84fc-4c98-82ce-9cc5958b86ee",
   "metadata": {},
   "outputs": [],
   "source": [
    "incidents = parser.incidents"
   ]
  },
  {
   "cell_type": "code",
   "execution_count": 12,
   "id": "0f7d4a6a-5e70-4e6b-bc61-921a6c240a79",
   "metadata": {},
   "outputs": [
    {
     "data": {
      "text/html": [
       "<div>\n",
       "<style scoped>\n",
       "    .dataframe tbody tr th:only-of-type {\n",
       "        vertical-align: middle;\n",
       "    }\n",
       "\n",
       "    .dataframe tbody tr th {\n",
       "        vertical-align: top;\n",
       "    }\n",
       "\n",
       "    .dataframe thead th {\n",
       "        text-align: right;\n",
       "    }\n",
       "</style>\n",
       "<table border=\"1\" class=\"dataframe\">\n",
       "  <thead>\n",
       "    <tr style=\"text-align: right;\">\n",
       "      <th></th>\n",
       "      <th>title</th>\n",
       "      <th>start_date</th>\n",
       "      <th>end_date</th>\n",
       "      <th>affected</th>\n",
       "      <th>level</th>\n",
       "      <th>planned</th>\n",
       "      <th>updated</th>\n",
       "      <th>id</th>\n",
       "      <th>content</th>\n",
       "    </tr>\n",
       "  </thead>\n",
       "  <tbody>\n",
       "    <tr>\n",
       "      <th>0</th>\n",
       "      <td>login nodes down</td>\n",
       "      <td>2022-01-20 09:00:00</td>\n",
       "      <td>NaT</td>\n",
       "      <td>tier2_leuven</td>\n",
       "      <td>high</td>\n",
       "      <td>False</td>\n",
       "      <td>2022-02-25 12:14:32+01:00</td>\n",
       "      <td>incident_0001</td>\n",
       "      <td>The login nodes seem to be down. \\n</td>\n",
       "    </tr>\n",
       "    <tr>\n",
       "      <th>1</th>\n",
       "      <td>update of storage system software</td>\n",
       "      <td>2022-01-20 09:00:00</td>\n",
       "      <td>2022-01-21 13:00:00</td>\n",
       "      <td>tier2_leuven</td>\n",
       "      <td>high</td>\n",
       "      <td>True</td>\n",
       "      <td>2022-02-08 09:58:53+01:00</td>\n",
       "      <td>incident_0002</td>\n",
       "      <td>The drivers for the parallel file system need ...</td>\n",
       "    </tr>\n",
       "    <tr>\n",
       "      <th>2</th>\n",
       "      <td>Belnet maintenance</td>\n",
       "      <td>2022-01-22 11:30:00</td>\n",
       "      <td>2022-01-22 13:00:00</td>\n",
       "      <td>vsc_backbone</td>\n",
       "      <td>high</td>\n",
       "      <td>True</td>\n",
       "      <td>2022-03-20 08:04:25+01:00</td>\n",
       "      <td>incident_0003</td>\n",
       "      <td>The Belnet VSC backbone will be down for maint...</td>\n",
       "    </tr>\n",
       "    <tr>\n",
       "      <th>3</th>\n",
       "      <td>Belnet maintenance</td>\n",
       "      <td>2022-01-22 11:30:00</td>\n",
       "      <td>2022-01-22 13:00:00</td>\n",
       "      <td>tier1_compute</td>\n",
       "      <td>high</td>\n",
       "      <td>True</td>\n",
       "      <td>2022-03-20 08:04:25+01:00</td>\n",
       "      <td>incident_0004</td>\n",
       "      <td>The Belnet VSC backbone will be down for maint...</td>\n",
       "    </tr>\n",
       "  </tbody>\n",
       "</table>\n",
       "</div>"
      ],
      "text/plain": [
       "                               title          start_date            end_date  \\\n",
       "0                   login nodes down 2022-01-20 09:00:00                 NaT   \n",
       "1  update of storage system software 2022-01-20 09:00:00 2022-01-21 13:00:00   \n",
       "2                 Belnet maintenance 2022-01-22 11:30:00 2022-01-22 13:00:00   \n",
       "3                 Belnet maintenance 2022-01-22 11:30:00 2022-01-22 13:00:00   \n",
       "\n",
       "        affected level  planned                   updated             id  \\\n",
       "0   tier2_leuven  high    False 2022-02-25 12:14:32+01:00  incident_0001   \n",
       "1   tier2_leuven  high     True 2022-02-08 09:58:53+01:00  incident_0002   \n",
       "2   vsc_backbone  high     True 2022-03-20 08:04:25+01:00  incident_0003   \n",
       "3  tier1_compute  high     True 2022-03-20 08:04:25+01:00  incident_0004   \n",
       "\n",
       "                                             content  \n",
       "0                The login nodes seem to be down. \\n  \n",
       "1  The drivers for the parallel file system need ...  \n",
       "2  The Belnet VSC backbone will be down for maint...  \n",
       "3  The Belnet VSC backbone will be down for maint...  "
      ]
     },
     "execution_count": 12,
     "metadata": {},
     "output_type": "execute_result"
    }
   ],
   "source": [
    "incidents"
   ]
  },
  {
   "cell_type": "code",
   "execution_count": 11,
   "id": "056a10e6-2cb6-4110-929f-9635bcb3594c",
   "metadata": {},
   "outputs": [],
   "source": [
    "incidents.end_date.fillna(datetime.datetime.fromisoformat('2030-12-31 00:00:00'), inplace=True)"
   ]
  },
  {
   "cell_type": "code",
   "execution_count": 12,
   "id": "310e7fe9-394b-41f4-9356-8a372d58a64e",
   "metadata": {},
   "outputs": [
    {
     "data": {
      "text/html": [
       "<div>\n",
       "<style scoped>\n",
       "    .dataframe tbody tr th:only-of-type {\n",
       "        vertical-align: middle;\n",
       "    }\n",
       "\n",
       "    .dataframe tbody tr th {\n",
       "        vertical-align: top;\n",
       "    }\n",
       "\n",
       "    .dataframe thead th {\n",
       "        text-align: right;\n",
       "    }\n",
       "</style>\n",
       "<table border=\"1\" class=\"dataframe\">\n",
       "  <thead>\n",
       "    <tr style=\"text-align: right;\">\n",
       "      <th></th>\n",
       "      <th>title</th>\n",
       "      <th>start_date</th>\n",
       "      <th>end_date</th>\n",
       "      <th>affected</th>\n",
       "      <th>level</th>\n",
       "      <th>planned</th>\n",
       "      <th>content</th>\n",
       "    </tr>\n",
       "  </thead>\n",
       "  <tbody>\n",
       "    <tr>\n",
       "      <th>0</th>\n",
       "      <td>login nodes down</td>\n",
       "      <td>2022-01-20 09:00:00</td>\n",
       "      <td>2030-12-31 00:00:00</td>\n",
       "      <td>tier2_leuven</td>\n",
       "      <td>high</td>\n",
       "      <td>False</td>\n",
       "      <td>The login nodes seem to be down. \\n</td>\n",
       "    </tr>\n",
       "    <tr>\n",
       "      <th>1</th>\n",
       "      <td>update of storage system software</td>\n",
       "      <td>2022-01-20 09:00:00</td>\n",
       "      <td>2022-01-21 13:00:00</td>\n",
       "      <td>tier2_leuven</td>\n",
       "      <td>high</td>\n",
       "      <td>True</td>\n",
       "      <td>The drivers for the parallel file system need ...</td>\n",
       "    </tr>\n",
       "    <tr>\n",
       "      <th>2</th>\n",
       "      <td>Belnet maintenance</td>\n",
       "      <td>2022-01-22 11:30:00</td>\n",
       "      <td>2022-01-22 13:00:00</td>\n",
       "      <td>vsc_backbone</td>\n",
       "      <td>high</td>\n",
       "      <td>True</td>\n",
       "      <td>The Belnet VSC backbone will be down for maint...</td>\n",
       "    </tr>\n",
       "    <tr>\n",
       "      <th>3</th>\n",
       "      <td>Belnet maintenance</td>\n",
       "      <td>2022-01-22 11:30:00</td>\n",
       "      <td>2022-01-22 13:00:00</td>\n",
       "      <td>tier1_compute</td>\n",
       "      <td>high</td>\n",
       "      <td>True</td>\n",
       "      <td>The Belnet VSC backbone will be down for maint...</td>\n",
       "    </tr>\n",
       "  </tbody>\n",
       "</table>\n",
       "</div>"
      ],
      "text/plain": [
       "                               title          start_date            end_date  \\\n",
       "0                   login nodes down 2022-01-20 09:00:00 2030-12-31 00:00:00   \n",
       "1  update of storage system software 2022-01-20 09:00:00 2022-01-21 13:00:00   \n",
       "2                 Belnet maintenance 2022-01-22 11:30:00 2022-01-22 13:00:00   \n",
       "3                 Belnet maintenance 2022-01-22 11:30:00 2022-01-22 13:00:00   \n",
       "\n",
       "        affected level  planned  \\\n",
       "0   tier2_leuven  high    False   \n",
       "1   tier2_leuven  high     True   \n",
       "2   vsc_backbone  high     True   \n",
       "3  tier1_compute  high     True   \n",
       "\n",
       "                                             content  \n",
       "0                The login nodes seem to be down. \\n  \n",
       "1  The drivers for the parallel file system need ...  \n",
       "2  The Belnet VSC backbone will be down for maint...  \n",
       "3  The Belnet VSC backbone will be down for maint...  "
      ]
     },
     "execution_count": 12,
     "metadata": {},
     "output_type": "execute_result"
    }
   ],
   "source": [
    "incidents"
   ]
  },
  {
   "cell_type": "code",
   "execution_count": 13,
   "id": "d25ea5f0-3aff-424f-8a29-7e5044f5f1d4",
   "metadata": {},
   "outputs": [
    {
     "name": "stdout",
     "output_type": "stream",
     "text": [
      "<class 'pandas.core.frame.DataFrame'>\n",
      "RangeIndex: 4 entries, 0 to 3\n",
      "Data columns (total 9 columns):\n",
      " #   Column      Non-Null Count  Dtype                    \n",
      "---  ------      --------------  -----                    \n",
      " 0   title       4 non-null      object                   \n",
      " 1   start_date  4 non-null      datetime64[ns]           \n",
      " 2   end_date    3 non-null      datetime64[ns]           \n",
      " 3   affected    4 non-null      object                   \n",
      " 4   level       4 non-null      object                   \n",
      " 5   planned     4 non-null      bool                     \n",
      " 6   updated     4 non-null      datetime64[ns, UTC+01:00]\n",
      " 7   id          4 non-null      object                   \n",
      " 8   content     4 non-null      object                   \n",
      "dtypes: bool(1), datetime64[ns, UTC+01:00](1), datetime64[ns](2), object(5)\n",
      "memory usage: 388.0+ bytes\n"
     ]
    }
   ],
   "source": [
    "incidents.info()"
   ]
  },
  {
   "cell_type": "code",
   "execution_count": 16,
   "id": "3354a0d4-e93e-42bd-aaee-666ac07a8e8e",
   "metadata": {},
   "outputs": [],
   "source": [
    "incidents['href'] = incidents['affected'] + '.html#' + incidents['id']"
   ]
  },
  {
   "cell_type": "code",
   "execution_count": 17,
   "id": "72021d2d-f9df-4578-a7b5-f49549f1c9ef",
   "metadata": {},
   "outputs": [
    {
     "data": {
      "text/html": [
       "<div>\n",
       "<style scoped>\n",
       "    .dataframe tbody tr th:only-of-type {\n",
       "        vertical-align: middle;\n",
       "    }\n",
       "\n",
       "    .dataframe tbody tr th {\n",
       "        vertical-align: top;\n",
       "    }\n",
       "\n",
       "    .dataframe thead th {\n",
       "        text-align: right;\n",
       "    }\n",
       "</style>\n",
       "<table border=\"1\" class=\"dataframe\">\n",
       "  <thead>\n",
       "    <tr style=\"text-align: right;\">\n",
       "      <th></th>\n",
       "      <th>title</th>\n",
       "      <th>start_date</th>\n",
       "      <th>end_date</th>\n",
       "      <th>affected</th>\n",
       "      <th>level</th>\n",
       "      <th>planned</th>\n",
       "      <th>updated</th>\n",
       "      <th>id</th>\n",
       "      <th>content</th>\n",
       "      <th>href</th>\n",
       "    </tr>\n",
       "  </thead>\n",
       "  <tbody>\n",
       "    <tr>\n",
       "      <th>0</th>\n",
       "      <td>login nodes down</td>\n",
       "      <td>2022-01-20 09:00:00</td>\n",
       "      <td>NaT</td>\n",
       "      <td>tier2_leuven</td>\n",
       "      <td>high</td>\n",
       "      <td>False</td>\n",
       "      <td>2022-02-25 12:14:32+01:00</td>\n",
       "      <td>incident_0001</td>\n",
       "      <td>The login nodes seem to be down. \\n</td>\n",
       "      <td>tier2_leuven.html#incident_0001</td>\n",
       "    </tr>\n",
       "    <tr>\n",
       "      <th>1</th>\n",
       "      <td>update of storage system software</td>\n",
       "      <td>2022-01-20 09:00:00</td>\n",
       "      <td>2022-01-21 13:00:00</td>\n",
       "      <td>tier2_leuven</td>\n",
       "      <td>high</td>\n",
       "      <td>True</td>\n",
       "      <td>2022-02-08 09:58:53+01:00</td>\n",
       "      <td>incident_0002</td>\n",
       "      <td>The drivers for the parallel file system need ...</td>\n",
       "      <td>tier2_leuven.html#incident_0002</td>\n",
       "    </tr>\n",
       "    <tr>\n",
       "      <th>2</th>\n",
       "      <td>Belnet maintenance</td>\n",
       "      <td>2022-01-22 11:30:00</td>\n",
       "      <td>2022-01-22 13:00:00</td>\n",
       "      <td>vsc_backbone</td>\n",
       "      <td>high</td>\n",
       "      <td>True</td>\n",
       "      <td>2022-03-20 08:04:25+01:00</td>\n",
       "      <td>incident_0003</td>\n",
       "      <td>The Belnet VSC backbone will be down for maint...</td>\n",
       "      <td>vsc_backbone.html#incident_0003</td>\n",
       "    </tr>\n",
       "    <tr>\n",
       "      <th>3</th>\n",
       "      <td>Belnet maintenance</td>\n",
       "      <td>2022-01-22 11:30:00</td>\n",
       "      <td>2022-01-22 13:00:00</td>\n",
       "      <td>tier1_compute</td>\n",
       "      <td>high</td>\n",
       "      <td>True</td>\n",
       "      <td>2022-03-20 08:04:25+01:00</td>\n",
       "      <td>incident_0004</td>\n",
       "      <td>The Belnet VSC backbone will be down for maint...</td>\n",
       "      <td>tier1_compute.html#incident_0004</td>\n",
       "    </tr>\n",
       "  </tbody>\n",
       "</table>\n",
       "</div>"
      ],
      "text/plain": [
       "                               title          start_date            end_date  \\\n",
       "0                   login nodes down 2022-01-20 09:00:00                 NaT   \n",
       "1  update of storage system software 2022-01-20 09:00:00 2022-01-21 13:00:00   \n",
       "2                 Belnet maintenance 2022-01-22 11:30:00 2022-01-22 13:00:00   \n",
       "3                 Belnet maintenance 2022-01-22 11:30:00 2022-01-22 13:00:00   \n",
       "\n",
       "        affected level  planned                   updated             id  \\\n",
       "0   tier2_leuven  high    False 2022-02-25 12:14:32+01:00  incident_0001   \n",
       "1   tier2_leuven  high     True 2022-02-08 09:58:53+01:00  incident_0002   \n",
       "2   vsc_backbone  high     True 2022-03-20 08:04:25+01:00  incident_0003   \n",
       "3  tier1_compute  high     True 2022-03-20 08:04:25+01:00  incident_0004   \n",
       "\n",
       "                                             content  \\\n",
       "0                The login nodes seem to be down. \\n   \n",
       "1  The drivers for the parallel file system need ...   \n",
       "2  The Belnet VSC backbone will be down for maint...   \n",
       "3  The Belnet VSC backbone will be down for maint...   \n",
       "\n",
       "                               href  \n",
       "0   tier2_leuven.html#incident_0001  \n",
       "1   tier2_leuven.html#incident_0002  \n",
       "2   vsc_backbone.html#incident_0003  \n",
       "3  tier1_compute.html#incident_0004  "
      ]
     },
     "execution_count": 17,
     "metadata": {},
     "output_type": "execute_result"
    }
   ],
   "source": [
    "incidents"
   ]
  },
  {
   "cell_type": "code",
   "execution_count": null,
   "id": "61cd409e-02c3-48b6-acda-53e9b7294b6f",
   "metadata": {},
   "outputs": [],
   "source": [
    "incidents.to_html("
   ]
  },
  {
   "cell_type": "markdown",
   "id": "42c38e46-a6d0-4f46-858c-1836d472ba78",
   "metadata": {},
   "source": [
    "# Testing"
   ]
  },
  {
   "cell_type": "code",
   "execution_count": 14,
   "id": "0955cf33-1368-490c-9437-de0f9ae7f198",
   "metadata": {},
   "outputs": [],
   "source": [
    "now = datetime.datetime.fromisoformat('2022-01-20 10:00:00')"
   ]
  },
  {
   "cell_type": "code",
   "execution_count": 15,
   "id": "c53160ae-232e-432b-a396-329db96960d1",
   "metadata": {},
   "outputs": [
    {
     "data": {
      "text/html": [
       "<div>\n",
       "<style scoped>\n",
       "    .dataframe tbody tr th:only-of-type {\n",
       "        vertical-align: middle;\n",
       "    }\n",
       "\n",
       "    .dataframe tbody tr th {\n",
       "        vertical-align: top;\n",
       "    }\n",
       "\n",
       "    .dataframe thead th {\n",
       "        text-align: right;\n",
       "    }\n",
       "</style>\n",
       "<table border=\"1\" class=\"dataframe\">\n",
       "  <thead>\n",
       "    <tr style=\"text-align: right;\">\n",
       "      <th></th>\n",
       "      <th>title</th>\n",
       "      <th>start_date</th>\n",
       "      <th>end_date</th>\n",
       "      <th>affected</th>\n",
       "      <th>level</th>\n",
       "      <th>planned</th>\n",
       "      <th>content</th>\n",
       "    </tr>\n",
       "  </thead>\n",
       "  <tbody>\n",
       "    <tr>\n",
       "      <th>0</th>\n",
       "      <td>login nodes down</td>\n",
       "      <td>2022-01-20 09:00:00</td>\n",
       "      <td>2030-12-31 00:00:00</td>\n",
       "      <td>tier2_leuven</td>\n",
       "      <td>high</td>\n",
       "      <td>False</td>\n",
       "      <td>The login nodes seem to be down. \\n</td>\n",
       "    </tr>\n",
       "    <tr>\n",
       "      <th>1</th>\n",
       "      <td>update of storage system software</td>\n",
       "      <td>2022-01-20 09:00:00</td>\n",
       "      <td>2022-01-21 13:00:00</td>\n",
       "      <td>tier2_leuven</td>\n",
       "      <td>high</td>\n",
       "      <td>True</td>\n",
       "      <td>The drivers for the parallel file system need ...</td>\n",
       "    </tr>\n",
       "  </tbody>\n",
       "</table>\n",
       "</div>"
      ],
      "text/plain": [
       "                               title          start_date            end_date  \\\n",
       "0                   login nodes down 2022-01-20 09:00:00 2030-12-31 00:00:00   \n",
       "1  update of storage system software 2022-01-20 09:00:00 2022-01-21 13:00:00   \n",
       "\n",
       "       affected level  planned  \\\n",
       "0  tier2_leuven  high    False   \n",
       "1  tier2_leuven  high     True   \n",
       "\n",
       "                                             content  \n",
       "0                The login nodes seem to be down. \\n  \n",
       "1  The drivers for the parallel file system need ...  "
      ]
     },
     "execution_count": 15,
     "metadata": {},
     "output_type": "execute_result"
    }
   ],
   "source": [
    "utils.select_current_incidents(incidents, date=now)"
   ]
  },
  {
   "cell_type": "code",
   "execution_count": 16,
   "id": "7aa57200-5a87-47b9-8b03-70fa8c391237",
   "metadata": {},
   "outputs": [
    {
     "data": {
      "text/html": [
       "<div>\n",
       "<style scoped>\n",
       "    .dataframe tbody tr th:only-of-type {\n",
       "        vertical-align: middle;\n",
       "    }\n",
       "\n",
       "    .dataframe tbody tr th {\n",
       "        vertical-align: top;\n",
       "    }\n",
       "\n",
       "    .dataframe thead th {\n",
       "        text-align: right;\n",
       "    }\n",
       "</style>\n",
       "<table border=\"1\" class=\"dataframe\">\n",
       "  <thead>\n",
       "    <tr style=\"text-align: right;\">\n",
       "      <th></th>\n",
       "      <th>title</th>\n",
       "      <th>start_date</th>\n",
       "      <th>end_date</th>\n",
       "      <th>affected</th>\n",
       "      <th>level</th>\n",
       "      <th>planned</th>\n",
       "      <th>content</th>\n",
       "    </tr>\n",
       "  </thead>\n",
       "  <tbody>\n",
       "    <tr>\n",
       "      <th>2</th>\n",
       "      <td>Belnet maintenance</td>\n",
       "      <td>2022-01-22 11:30:00</td>\n",
       "      <td>2022-01-22 13:00:00</td>\n",
       "      <td>vsc_backbone</td>\n",
       "      <td>high</td>\n",
       "      <td>True</td>\n",
       "      <td>The Belnet VSC backbone will be down for maint...</td>\n",
       "    </tr>\n",
       "    <tr>\n",
       "      <th>3</th>\n",
       "      <td>Belnet maintenance</td>\n",
       "      <td>2022-01-22 11:30:00</td>\n",
       "      <td>2022-01-22 13:00:00</td>\n",
       "      <td>tier1_compute</td>\n",
       "      <td>high</td>\n",
       "      <td>True</td>\n",
       "      <td>The Belnet VSC backbone will be down for maint...</td>\n",
       "    </tr>\n",
       "  </tbody>\n",
       "</table>\n",
       "</div>"
      ],
      "text/plain": [
       "                title          start_date            end_date       affected  \\\n",
       "2  Belnet maintenance 2022-01-22 11:30:00 2022-01-22 13:00:00   vsc_backbone   \n",
       "3  Belnet maintenance 2022-01-22 11:30:00 2022-01-22 13:00:00  tier1_compute   \n",
       "\n",
       "  level  planned                                            content  \n",
       "2  high     True  The Belnet VSC backbone will be down for maint...  \n",
       "3  high     True  The Belnet VSC backbone will be down for maint...  "
      ]
     },
     "execution_count": 16,
     "metadata": {},
     "output_type": "execute_result"
    }
   ],
   "source": [
    "utils.select_planned_maintenance(incidents, date=now)"
   ]
  },
  {
   "cell_type": "markdown",
   "id": "519fa31c-cfd8-417f-b58c-2273d34a27f8",
   "metadata": {},
   "source": [
    "# Generation"
   ]
  },
  {
   "cell_type": "code",
   "execution_count": 17,
   "id": "343b75de-f358-4480-b2a9-e66a9f2d9bfa",
   "metadata": {},
   "outputs": [],
   "source": [
    "current_incidents = utils.select_current_incidents(incidents, date=now)"
   ]
  },
  {
   "cell_type": "code",
   "execution_count": 18,
   "id": "ab323372-ac50-4b7f-a9e5-14dffc35e66b",
   "metadata": {},
   "outputs": [],
   "source": [
    "current_table = utils.dataframe_to_html_table(\n",
    "    current_incidents[current_overview_columns],\n",
    "    no_news_message\n",
    ")"
   ]
  },
  {
   "cell_type": "code",
   "execution_count": 19,
   "id": "48c97ee8-b67e-472b-bc55-5beadacd29fd",
   "metadata": {},
   "outputs": [],
   "source": [
    "planned_maintenance = utils.select_planned_maintenance(incidents, date=now)"
   ]
  },
  {
   "cell_type": "code",
   "execution_count": 20,
   "id": "2215569a-a581-4415-9a4a-d56393e71118",
   "metadata": {},
   "outputs": [],
   "source": [
    "planned_table = utils.dataframe_to_html_table(\n",
    "    planned_maintenance[planned_overview_columns],\n",
    "    no_news_message\n",
    ")"
   ]
  },
  {
   "cell_type": "code",
   "execution_count": 21,
   "id": "f70a5e86-c9c1-4cb4-80fb-331037577b0a",
   "metadata": {},
   "outputs": [],
   "source": [
    "utils.process_template(template_dir / 'index.html', build_dir,\n",
    "                       {'overview_table_current': current_table,\n",
    "                        'overview_table_planned': planned_table})"
   ]
  },
  {
   "cell_type": "code",
   "execution_count": 22,
   "id": "7b285b38-bc61-4ecc-ab55-3547eb4bf9c8",
   "metadata": {},
   "outputs": [
    {
     "data": {
      "text/html": [
       "<div>\n",
       "<style scoped>\n",
       "    .dataframe tbody tr th:only-of-type {\n",
       "        vertical-align: middle;\n",
       "    }\n",
       "\n",
       "    .dataframe tbody tr th {\n",
       "        vertical-align: top;\n",
       "    }\n",
       "\n",
       "    .dataframe thead th {\n",
       "        text-align: right;\n",
       "    }\n",
       "</style>\n",
       "<table border=\"1\" class=\"dataframe\">\n",
       "  <thead>\n",
       "    <tr style=\"text-align: right;\">\n",
       "      <th></th>\n",
       "      <th>title</th>\n",
       "      <th>start_date</th>\n",
       "      <th>end_date</th>\n",
       "      <th>level</th>\n",
       "      <th>planned</th>\n",
       "      <th>content</th>\n",
       "    </tr>\n",
       "    <tr>\n",
       "      <th>affected</th>\n",
       "      <th></th>\n",
       "      <th></th>\n",
       "      <th></th>\n",
       "      <th></th>\n",
       "      <th></th>\n",
       "      <th></th>\n",
       "    </tr>\n",
       "  </thead>\n",
       "  <tbody>\n",
       "    <tr>\n",
       "      <th>tier1_compute</th>\n",
       "      <td>1</td>\n",
       "      <td>1</td>\n",
       "      <td>1</td>\n",
       "      <td>1</td>\n",
       "      <td>1</td>\n",
       "      <td>1</td>\n",
       "    </tr>\n",
       "    <tr>\n",
       "      <th>tier2_leuven</th>\n",
       "      <td>2</td>\n",
       "      <td>2</td>\n",
       "      <td>2</td>\n",
       "      <td>2</td>\n",
       "      <td>2</td>\n",
       "      <td>2</td>\n",
       "    </tr>\n",
       "    <tr>\n",
       "      <th>vsc_backbone</th>\n",
       "      <td>1</td>\n",
       "      <td>1</td>\n",
       "      <td>1</td>\n",
       "      <td>1</td>\n",
       "      <td>1</td>\n",
       "      <td>1</td>\n",
       "    </tr>\n",
       "  </tbody>\n",
       "</table>\n",
       "</div>"
      ],
      "text/plain": [
       "               title  start_date  end_date  level  planned  content\n",
       "affected                                                           \n",
       "tier1_compute      1           1         1      1        1        1\n",
       "tier2_leuven       2           2         2      2        2        2\n",
       "vsc_backbone       1           1         1      1        1        1"
      ]
     },
     "execution_count": 22,
     "metadata": {},
     "output_type": "execute_result"
    }
   ],
   "source": [
    "incidents.groupby('affected').count()"
   ]
  },
  {
   "cell_type": "code",
   "execution_count": 23,
   "id": "7ab1f99c-d75e-4ffa-9fd9-d2f621fb8894",
   "metadata": {},
   "outputs": [
    {
     "name": "stdout",
     "output_type": "stream",
     "text": [
      "<p>The login nodes seem to be down. </p>\n"
     ]
    }
   ],
   "source": [
    "print(markdown.markdown(incidents.loc[0].content))"
   ]
  },
  {
   "cell_type": "code",
   "execution_count": 24,
   "id": "0da16e95-4488-4d38-a4d9-a0ae6e405986",
   "metadata": {},
   "outputs": [
    {
     "data": {
      "text/html": [
       "<div>\n",
       "<style scoped>\n",
       "    .dataframe tbody tr th:only-of-type {\n",
       "        vertical-align: middle;\n",
       "    }\n",
       "\n",
       "    .dataframe tbody tr th {\n",
       "        vertical-align: top;\n",
       "    }\n",
       "\n",
       "    .dataframe thead th {\n",
       "        text-align: right;\n",
       "    }\n",
       "</style>\n",
       "<table border=\"1\" class=\"dataframe\">\n",
       "  <thead>\n",
       "    <tr style=\"text-align: right;\">\n",
       "      <th></th>\n",
       "      <th>title</th>\n",
       "      <th>start_date</th>\n",
       "      <th>end_date</th>\n",
       "      <th>affected</th>\n",
       "      <th>level</th>\n",
       "      <th>planned</th>\n",
       "      <th>content</th>\n",
       "    </tr>\n",
       "  </thead>\n",
       "  <tbody>\n",
       "    <tr>\n",
       "      <th>0</th>\n",
       "      <td>login nodes down</td>\n",
       "      <td>2022-01-20 09:00:00</td>\n",
       "      <td>2030-12-31 00:00:00</td>\n",
       "      <td>tier2_leuven</td>\n",
       "      <td>high</td>\n",
       "      <td>False</td>\n",
       "      <td>The login nodes seem to be down. \\n</td>\n",
       "    </tr>\n",
       "    <tr>\n",
       "      <th>1</th>\n",
       "      <td>update of storage system software</td>\n",
       "      <td>2022-01-20 09:00:00</td>\n",
       "      <td>2022-01-21 13:00:00</td>\n",
       "      <td>tier2_leuven</td>\n",
       "      <td>high</td>\n",
       "      <td>True</td>\n",
       "      <td>The drivers for the parallel file system need ...</td>\n",
       "    </tr>\n",
       "  </tbody>\n",
       "</table>\n",
       "</div>"
      ],
      "text/plain": [
       "                               title          start_date            end_date  \\\n",
       "0                   login nodes down 2022-01-20 09:00:00 2030-12-31 00:00:00   \n",
       "1  update of storage system software 2022-01-20 09:00:00 2022-01-21 13:00:00   \n",
       "\n",
       "       affected level  planned  \\\n",
       "0  tier2_leuven  high    False   \n",
       "1  tier2_leuven  high     True   \n",
       "\n",
       "                                             content  \n",
       "0                The login nodes seem to be down. \\n  \n",
       "1  The drivers for the parallel file system need ...  "
      ]
     },
     "execution_count": 24,
     "metadata": {},
     "output_type": "execute_result"
    }
   ],
   "source": [
    "current_incidents"
   ]
  },
  {
   "cell_type": "code",
   "execution_count": 25,
   "id": "d70979b0-7b4a-45b9-8de4-8f0e6caf6bf5",
   "metadata": {},
   "outputs": [],
   "source": [
    "current_incidents.loc[:, ['end_date']] = current_incidents.end_date.apply(lambda x: str(x) if x < datetime.datetime.fromisoformat('2022-12-31 00:00:00') else '')"
   ]
  },
  {
   "cell_type": "code",
   "execution_count": 26,
   "id": "fb7a4f81-d39c-4837-b530-04fda0076590",
   "metadata": {},
   "outputs": [
    {
     "data": {
      "text/html": [
       "<div>\n",
       "<style scoped>\n",
       "    .dataframe tbody tr th:only-of-type {\n",
       "        vertical-align: middle;\n",
       "    }\n",
       "\n",
       "    .dataframe tbody tr th {\n",
       "        vertical-align: top;\n",
       "    }\n",
       "\n",
       "    .dataframe thead th {\n",
       "        text-align: right;\n",
       "    }\n",
       "</style>\n",
       "<table border=\"1\" class=\"dataframe\">\n",
       "  <thead>\n",
       "    <tr style=\"text-align: right;\">\n",
       "      <th></th>\n",
       "      <th>title</th>\n",
       "      <th>start_date</th>\n",
       "      <th>end_date</th>\n",
       "      <th>affected</th>\n",
       "      <th>level</th>\n",
       "      <th>planned</th>\n",
       "      <th>content</th>\n",
       "    </tr>\n",
       "  </thead>\n",
       "  <tbody>\n",
       "    <tr>\n",
       "      <th>0</th>\n",
       "      <td>login nodes down</td>\n",
       "      <td>2022-01-20 09:00:00</td>\n",
       "      <td></td>\n",
       "      <td>tier2_leuven</td>\n",
       "      <td>high</td>\n",
       "      <td>False</td>\n",
       "      <td>The login nodes seem to be down. \\n</td>\n",
       "    </tr>\n",
       "    <tr>\n",
       "      <th>1</th>\n",
       "      <td>update of storage system software</td>\n",
       "      <td>2022-01-20 09:00:00</td>\n",
       "      <td>2022-01-21 13:00:00</td>\n",
       "      <td>tier2_leuven</td>\n",
       "      <td>high</td>\n",
       "      <td>True</td>\n",
       "      <td>The drivers for the parallel file system need ...</td>\n",
       "    </tr>\n",
       "  </tbody>\n",
       "</table>\n",
       "</div>"
      ],
      "text/plain": [
       "                               title          start_date             end_date  \\\n",
       "0                   login nodes down 2022-01-20 09:00:00                        \n",
       "1  update of storage system software 2022-01-20 09:00:00  2022-01-21 13:00:00   \n",
       "\n",
       "       affected level  planned  \\\n",
       "0  tier2_leuven  high    False   \n",
       "1  tier2_leuven  high     True   \n",
       "\n",
       "                                             content  \n",
       "0                The login nodes seem to be down. \\n  \n",
       "1  The drivers for the parallel file system need ...  "
      ]
     },
     "execution_count": 26,
     "metadata": {},
     "output_type": "execute_result"
    }
   ],
   "source": [
    "current_incidents"
   ]
  },
  {
   "cell_type": "code",
   "execution_count": 27,
   "id": "d14d3ee5-35f9-4f36-8121-f63e8cf897bf",
   "metadata": {},
   "outputs": [
    {
     "name": "stdout",
     "output_type": "stream",
     "text": [
      "<class 'pandas.core.frame.DataFrame'>\n",
      "Int64Index: 2 entries, 0 to 1\n",
      "Data columns (total 7 columns):\n",
      " #   Column      Non-Null Count  Dtype         \n",
      "---  ------      --------------  -----         \n",
      " 0   title       2 non-null      object        \n",
      " 1   start_date  2 non-null      datetime64[ns]\n",
      " 2   end_date    2 non-null      object        \n",
      " 3   affected    2 non-null      object        \n",
      " 4   level       2 non-null      object        \n",
      " 5   planned     2 non-null      bool          \n",
      " 6   content     2 non-null      object        \n",
      "dtypes: bool(1), datetime64[ns](1), object(5)\n",
      "memory usage: 114.0+ bytes\n"
     ]
    }
   ],
   "source": [
    "current_incidents.info()"
   ]
  },
  {
   "cell_type": "code",
   "execution_count": null,
   "id": "c6f067eb-7b9a-4684-af0c-da24a0ae7c1d",
   "metadata": {},
   "outputs": [],
   "source": []
  }
 ],
 "metadata": {
  "kernelspec": {
   "display_name": "Python 3 (ipykernel)",
   "language": "python",
   "name": "python3"
  },
  "language_info": {
   "codemirror_mode": {
    "name": "ipython",
    "version": 3
   },
   "file_extension": ".py",
   "mimetype": "text/x-python",
   "name": "python",
   "nbconvert_exporter": "python",
   "pygments_lexer": "ipython3",
   "version": "3.9.7"
  }
 },
 "nbformat": 4,
 "nbformat_minor": 5
}
